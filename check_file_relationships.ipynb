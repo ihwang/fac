{
 "cells": [
  {
   "cell_type": "code",
   "execution_count": 9,
   "metadata": {
    "collapsed": false
   },
   "outputs": [],
   "source": [
    "files = ['agency.txt','cfda.txt','cpas.txt','duns.txt','eins.txt','findings.txt','general.txt','passthrough.txt']\n",
    "path = '/data/ihwang/data_journalism/allfac/raw/'\n",
    "header_dict = {}\n",
    "for file in files:\n",
    "    with open(path + file, 'r') as f:\n",
    "        header = f.readline()\n",
    "        header_dict[file] = set([i.strip() for i in header.split(',')])"
   ]
  },
  {
   "cell_type": "code",
   "execution_count": 27,
   "metadata": {
    "collapsed": false
   },
   "outputs": [
    {
     "name": "stdout",
     "output_type": "stream",
     "text": [
      "agency.txt {'EIN'}\n",
      "duns.txt set()\n",
      "cfda.txt {'EIN'}\n",
      "findings.txt set()\n",
      "general.txt {'EIN'}\n",
      "passthrough.txt set()\n",
      "cpas.txt set()\n"
     ]
    }
   ],
   "source": [
    "select_file = 'eins.txt'\n",
    "for file in set(files).difference(set([select_file])):\n",
    "    print(file, set(header_dict[select_file].intersection(header_dict[file])).difference(['DBKEY', 'AUDITYEAR']))"
   ]
  },
  {
   "cell_type": "code",
   "execution_count": 14,
   "metadata": {
    "collapsed": false
   },
   "outputs": [
    {
     "data": {
      "text/plain": [
       "{'AUDITYEAR', 'DBKEY', 'ELECAUDITSID', 'TYPEREQUIREMENT'}"
      ]
     },
     "execution_count": 14,
     "metadata": {},
     "output_type": "execute_result"
    }
   ],
   "source": [
    "header_dict['cfda.txt'].intersection(header_dict['findings.txt'])"
   ]
  },
  {
   "cell_type": "code",
   "execution_count": 19,
   "metadata": {
    "collapsed": false
   },
   "outputs": [
    {
     "data": {
      "text/plain": [
       "{'agency.txt',\n",
       " 'cfda.txt',\n",
       " 'cpas.txt',\n",
       " 'duns.txt',\n",
       " 'eins.txt',\n",
       " 'findings.txt',\n",
       " 'passthrough.txt'}"
      ]
     },
     "execution_count": 19,
     "metadata": {},
     "output_type": "execute_result"
    }
   ],
   "source": [
    "set(files).difference(set(['general.txt']))"
   ]
  },
  {
   "cell_type": "code",
   "execution_count": null,
   "metadata": {
    "collapsed": true
   },
   "outputs": [],
   "source": []
  }
 ],
 "metadata": {
  "kernelspec": {
   "display_name": "Python 3",
   "language": "python",
   "name": "python3"
  },
  "language_info": {
   "codemirror_mode": {
    "name": "ipython",
    "version": 3
   },
   "file_extension": ".py",
   "mimetype": "text/x-python",
   "name": "python",
   "nbconvert_exporter": "python",
   "pygments_lexer": "ipython3",
   "version": "3.6.8"
  }
 },
 "nbformat": 4,
 "nbformat_minor": 2
}
