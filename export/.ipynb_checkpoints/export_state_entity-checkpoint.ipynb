{
 "cells": [
  {
   "cell_type": "markdown",
   "metadata": {},
   "source": [
    "## This notebook reads in processed FAC data and exports a CSV file for a given state and entity type"
   ]
  },
  {
   "cell_type": "code",
   "execution_count": 5,
   "metadata": {
    "collapsed": false
   },
   "outputs": [],
   "source": [
    "import numpy as np\n",
    "import pandas as pd\n",
    "%matplotlib inline\n",
    "import matplotlib.pyplot as plt\n",
    "import pickle\n",
    "import re\n",
    "from collections import Counter\n",
    "\n",
    "\n",
    "# Select variables\n",
    "entity = '505'\n",
    "state = 'IL'\n",
    "\n",
    "\n",
    "# FAC data\n",
    "path = '/data/ihwang/data_journalism/allfac'\n",
    "processed_path = path + '/processed/'\n",
    "general_df = pd.read_pickle(processed_path + 'general.pkl')\n",
    "# Agency prefix dictionary:\n",
    "with open(processed_path + 'agency_dict.pkl', 'rb') as f_w:\n",
    "    agency_dict = pickle.load(f_w)\n",
    "# Entity code dictionary:\n",
    "with open(processed_path + 'entity_dict.pkl', 'rb') as f_w:\n",
    "    entity_dict = pickle.load(f_w)\n",
    "entity_df = general_df[(general_df['TYPEOFENTITY'] == entity) & (general_df['STATE'] == state)].copy()\n",
    "# Export dataframe\n",
    "entity_df.to_csv(path + '/export/FAC_%s_%s.csv' %(state, entity), index=False)"
   ]
  },
  {
   "cell_type": "code",
   "execution_count": null,
   "metadata": {
    "collapsed": true
   },
   "outputs": [],
   "source": []
  }
 ],
 "metadata": {
  "kernelspec": {
   "display_name": "Python 3",
   "language": "python",
   "name": "python3"
  },
  "language_info": {
   "codemirror_mode": {
    "name": "ipython",
    "version": 3
   },
   "file_extension": ".py",
   "mimetype": "text/x-python",
   "name": "python",
   "nbconvert_exporter": "python",
   "pygments_lexer": "ipython3",
   "version": "3.6.8"
  }
 },
 "nbformat": 4,
 "nbformat_minor": 2
}
