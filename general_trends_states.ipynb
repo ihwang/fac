{
 "cells": [
  {
   "cell_type": "markdown",
   "metadata": {},
   "source": [
    "# This notebook examines state-specific trends in the processed general.txt file (general.pkl)"
   ]
  },
  {
   "cell_type": "code",
   "execution_count": 1,
   "metadata": {
    "collapsed": false
   },
   "outputs": [],
   "source": [
    "import numpy as np\n",
    "import pandas as pd\n",
    "%matplotlib inline\n",
    "import matplotlib.pyplot as plt\n",
    "import pickle\n",
    "import os\n",
    "import re\n",
    "import cpi\n",
    "\n",
    "processed_path = '/data/ihwang/data_journalism/allfac/processed/'\n",
    "df_general = pd.read_pickle(processed_path + 'general.pkl')\n",
    "\n",
    "# Agency prefix dictionary:\n",
    "with open(processed_path + 'agency_dict.pkl', 'rb') as f_r:\n",
    "    agency_dict = pickle.load(f_r)\n",
    "# Entity code dictionary:\n",
    "with open(processed_path + 'entity_dict.pkl', 'rb') as f_r:\n",
    "    entity_dict = pickle.load(f_r)"
   ]
  },
  {
   "cell_type": "markdown",
   "metadata": {},
   "source": [
    "Fields carried over from processing general.txt"
   ]
  },
  {
   "cell_type": "code",
   "execution_count": 2,
   "metadata": {
    "collapsed": false,
    "scrolled": true
   },
   "outputs": [],
   "source": [
    "# for i in df_general.columns:\n",
    "#     print(i)"
   ]
  },
  {
   "cell_type": "markdown",
   "metadata": {},
   "source": [
    "Adjust `DOLLARTHRESHOLD` and `TOTFEDEXPEND_ADJUSTED` for inflation"
   ]
  },
  {
   "cell_type": "code",
   "execution_count": 3,
   "metadata": {
    "collapsed": false
   },
   "outputs": [],
   "source": [
    "df_general['DOLLARTHRESHOLD_ADJUSTED'] = df_general.apply(lambda x: cpi.inflate(x.DOLLARTHRESHOLD, x.AUDITYEAR), axis=1)\n",
    "df_general['TOTFEDEXPEND_ADJUSTED'] = df_general.apply(lambda x: cpi.inflate(x.TOTFEDEXPEND, x.AUDITYEAR), axis=1)"
   ]
  },
  {
   "cell_type": "code",
   "execution_count": 4,
   "metadata": {
    "collapsed": false
   },
   "outputs": [],
   "source": [
    "# Remove territories/islands\n",
    "df_analysis = df_general[~df_general['STATE'].isin(['AS','MP','FM','PR','GU','PW','MH','VI'])]"
   ]
  },
  {
   "cell_type": "markdown",
   "metadata": {},
   "source": [
    "## Calculate relative numbers of audits and total expenditure"
   ]
  },
  {
   "cell_type": "code",
   "execution_count": 25,
   "metadata": {
    "collapsed": false
   },
   "outputs": [],
   "source": [
    "series_state_pct_audits = 100 * df_analysis.groupby('STATE').size().sort_values(ascending=False) / len(df_analysis)\n",
    "series_dict = {'PCT_ALL_AUDITS': series_state_pct_audits}\n",
    "series_state_pct_fedexpend = 100 * df_analysis.groupby('STATE')\\\n",
    "    ['TOTFEDEXPEND_ADJUSTED'].sum().sort_values(ascending=False) / \\\n",
    "    df_analysis['TOTFEDEXPEND_ADJUSTED'].sum() \n",
    "series_dict['PCT_FEDEXPEND'] = series_state_pct_fedexpend"
   ]
  },
  {
   "cell_type": "markdown",
   "metadata": {},
   "source": [
    "## Risk"
   ]
  },
  {
   "cell_type": "code",
   "execution_count": 26,
   "metadata": {
    "collapsed": false
   },
   "outputs": [],
   "source": [
    "df_risk_state = df_analysis.groupby('STATE')['LOWRISK'].value_counts().sort_index().unstack()\n",
    "series_risk_state_norm = 100 * df_risk_state['N'] / len(df_analysis[df_analysis['LOWRISK'] == 'N'])\n",
    "series_dict['PCT_HIGH_RISK'] = series_risk_state_norm"
   ]
  },
  {
   "cell_type": "code",
   "execution_count": 28,
   "metadata": {
    "collapsed": false,
    "scrolled": false
   },
   "outputs": [
    {
     "data": {
      "image/png": "[encoded data removed]",
      "text/plain": [
       "<Figure size 360x360 with 1 Axes>"
      ]
     },
     "metadata": {},
     "output_type": "display_data"
    }
   ],
   "source": [
    "series1 = 'PCT_ALL_AUDITS'\n",
    "series2 = 'PCT_HIGH_RISK'\n",
    "\n",
    "fig, axes = plt.subplots(figsize=(5, 5))\n",
    "df_plot = pd.concat(\n",
    "    [series_dict[series1].rename(series1), series_dict[series2].rename(series2)], \n",
    "    axis=1, sort=True\n",
    ")\n",
    "axes_max = max(max(series_dict[series1]), max(series_dict[series2]))\n",
    "df_plot.dropna(inplace=True)\n",
    "plot = df_plot.plot(\n",
    "    x=series1, y=series2, kind='scatter', fontsize=16, ax=axes\n",
    ")\n",
    "for i, point in df_plot.iterrows():\n",
    "    axes.text(point[series1], point[series2], str(i))\n",
    "plot.set_xlabel(series1, fontsize=16, fontname='Arial')\n",
    "plot.set_ylabel(series2, fontsize=16, fontname='Arial')\n",
    "plot.set_ylim(bottom=0, top=1.1*axes_max)\n",
    "plot.set_xlim(left=0, right=1.1*axes_max)\n",
    "axes.plot(axes.get_xlim(), axes.get_ylim(), ls=\"--\", c=\".3\")\n",
    "\n",
    "plt.tight_layout()\n",
    "plt.show()"
   ]
  },
  {
   "cell_type": "markdown",
   "metadata": {},
   "source": [
    "## Financial statements"
   ]
  },
  {
   "cell_type": "markdown",
   "metadata": {},
   "source": [
    "What are the possible bases of accounting that can be used?"
   ]
  },
  {
   "cell_type": "code",
   "execution_count": 8,
   "metadata": {
    "collapsed": false
   },
   "outputs": [
    {
     "data": {
      "text/plain": [
       "{'', 'CASH', 'CONTRACTUAL', 'OTHER', 'REGULATORY', 'TAX'}"
      ]
     },
     "execution_count": 8,
     "metadata": {},
     "output_type": "execute_result"
    }
   ],
   "source": [
    "set(df_analysis['SP_FRAMEWORK'])"
   ]
  },
  {
   "cell_type": "markdown",
   "metadata": {},
   "source": [
    "Filter data based on a particular basis of accounting framework"
   ]
  },
  {
   "cell_type": "code",
   "execution_count": 9,
   "metadata": {
    "collapsed": false
   },
   "outputs": [],
   "source": [
    "framework = ''\n",
    "df_financial = df_analysis[df_analysis['SP_FRAMEWORK'] == framework]\n",
    "if framework != '':\n",
    "    print('Number of audits prepared according to a %s special framework: %s' %(framework, len(df_financial)))"
   ]
  },
  {
   "cell_type": "markdown",
   "metadata": {},
   "source": [
    "Filter by whether special framework was required by state law (only for special purpose frameworks)"
   ]
  },
  {
   "cell_type": "code",
   "execution_count": 10,
   "metadata": {
    "collapsed": false
   },
   "outputs": [],
   "source": [
    "# if framework != '':\n",
    "#     df_financial = df_financial[df_financial['SP_FRAMEWORK_REQUIRED'] == 'Y']"
   ]
  },
  {
   "cell_type": "markdown",
   "metadata": {},
   "source": [
    "Note that after both filtering steps, the following plots will contain information along the lines of: \"California accounts for X% of all audits prepared according to GAAP, but accounts for Y% of all audits prepared according to GAAP with at least one material noncompliance.\""
   ]
  },
  {
   "cell_type": "code",
   "execution_count": 41,
   "metadata": {
    "collapsed": false
   },
   "outputs": [
    {
     "name": "stdout",
     "output_type": "stream",
     "text": [
      "dict_keys(['PCT_GAAP_FRAMEWORK', 'PCT_FEDEXPEND', 'PCT_AD_TYPEREPORT_FS', 'PCT_GEQ1_GOINGCONCERN', 'PCT_GEQ1_REPORTABLECONDITION', 'PCT_GEQ1_MATERIALWEAKNESS', 'PCT_GEQ1_MATERIALNONCOMPLIANCE'])\n"
     ]
    }
   ],
   "source": [
    "fs_series_dict = {}\n",
    "df_analysis_framework = df_analysis[df_analysis['SP_FRAMEWORK'] == framework]\n",
    "###############################################################################\n",
    "# Calculate general numbers: percent of all audits and total expenditure\n",
    "###############################################################################\n",
    "series_state_pct_audits = 100 * \\\n",
    "    df_financial.groupby('STATE').size() / \\\n",
    "    len(df_analysis_framework)\n",
    "if framework == '':\n",
    "    key_framework = 'GAAP'\n",
    "else:\n",
    "    key_framework = framework\n",
    "fs_series_dict['PCT_%s_FRAMEWORK' %key_framework] = series_state_pct_audits\n",
    "series_state_pct_fedexpend = 100 * \\\n",
    "    df_financial.groupby('STATE')['TOTFEDEXPEND_ADJUSTED'].sum() / \\\n",
    "    df_analysis_framework['TOTFEDEXPEND_ADJUSTED'].sum()\n",
    "fs_series_dict['PCT_FEDEXPEND'] = series_state_pct_fedexpend\n",
    "###############################################################################\n",
    "\n",
    "###############################################################################\n",
    "# Get percent of A/D audit opinions on financial statement preparation and \n",
    "# financial issues\n",
    "###############################################################################\n",
    "if framework == '':\n",
    "    sortby_fs = 'TYPEREPORT_FS'\n",
    "else:\n",
    "    sortby_fs = 'TYPEREPORT_SP_FRAMEWORK'\n",
    "ad_op_list = [\n",
    "    i for i in set(df_financial[sortby_fs]) \n",
    "    if ('A' in i) or ('D' in i)\n",
    "]\n",
    "df_state_fs = df_financial.groupby('STATE')\\\n",
    "    [sortby_fs].value_counts().unstack()\n",
    "series_state_ad_fs_norm = 100 * \\\n",
    "               df_state_fs[ad_op_list].sum(axis=1) / \\\n",
    "               len(df_analysis_framework[df_analysis_framework[sortby_fs].isin(ad_op_list)])\n",
    "fs_series_dict[\n",
    "    'PCT_AD_%s' %sortby_fs\n",
    "] = series_state_ad_fs_norm\n",
    "\n",
    "# Get percent of financial issues\n",
    "for sortby_fs in [\n",
    "    'GOINGCONCERN','REPORTABLECONDITION', 'MATERIALWEAKNESS',\n",
    "    'MATERIALNONCOMPLIANCE'\n",
    "]:\n",
    "    df_state_op = df_financial.groupby('STATE')[sortby_fs].value_counts().sort_index().unstack()\n",
    "    if sortby_fs == 'MATERIALWEAKNESS':\n",
    "        count_cols = ['2', '3', 'X', 'Y']\n",
    "    else:\n",
    "        count_cols = ['Y']\n",
    "    series_state_op_norm = 100 * \\\n",
    "        df_state_op[count_cols].sum(axis=1) / \\\n",
    "        len(df_analysis_framework[df_analysis_framework[sortby_fs].isin(count_cols)])\n",
    "    fs_series_dict_key = 'PCT_GEQ1_%s' %sortby_fs\n",
    "    fs_series_dict[fs_series_dict_key] = series_state_op_norm\n",
    "##############################################################################\n",
    "\n",
    "print(fs_series_dict.keys())"
   ]
  },
  {
   "cell_type": "code",
   "execution_count": 44,
   "metadata": {
    "collapsed": false
   },
   "outputs": [
    {
     "data": {
      "image/png": "[encoded data removed]",
      "text/plain": [
       "<Figure size 360x360 with 1 Axes>"
      ]
     },
     "metadata": {},
     "output_type": "display_data"
    }
   ],
   "source": [
    "series1 = 'PCT_FEDEXPEND'\n",
    "series2 = 'PCT_AD_TYPEREPORT_FS'\n",
    "\n",
    "fig, axes = plt.subplots(figsize=(5, 5))\n",
    "df_plot = pd.concat(\n",
    "    [fs_series_dict[series1].rename(series1), fs_series_dict[series2].rename(series2)], \n",
    "    axis=1, sort=True\n",
    ")\n",
    "axes_max = max(max(fs_series_dict[series1]), max(fs_series_dict[series2]))\n",
    "df_plot.dropna(inplace=True)\n",
    "plot = df_plot.plot(\n",
    "    x=series1, y=series2, kind='scatter', fontsize=16, ax=axes\n",
    ")\n",
    "for i, point in df_plot.iterrows():\n",
    "    axes.text(point[series1], point[series2], str(i))\n",
    "plot.set_xlabel(series1, fontsize=16, fontname='Arial')\n",
    "plot.set_ylabel(series2, fontsize=16, fontname='Arial')\n",
    "plot.set_ylim(bottom=0, top=1.1*axes_max)\n",
    "plot.set_xlim(left=0, right=1.1*axes_max)\n",
    "axes.plot(axes.get_xlim(), axes.get_ylim(), ls=\"--\", c=\".3\")\n",
    "\n",
    "plt.tight_layout()\n",
    "plt.show()"
   ]
  },
  {
   "cell_type": "code",
   "execution_count": 48,
   "metadata": {
    "collapsed": false,
    "scrolled": true
   },
   "outputs": [
    {
     "data": {
      "text/plain": [
       "863434128992.29797"
      ]
     },
     "execution_count": 48,
     "metadata": {},
     "output_type": "execute_result"
    }
   ],
   "source": [
    "df_plot.sort_values(series2, ascending=False)\n",
    "state = 'IL'\n",
    "len(df_financial[df_financial['STATE'] == state]['TOTFEDEXPEND_ADJUSTED'])\n",
    "df_financial[df_financial['STATE'] == state]['TOTFEDEXPEND_ADJUSTED'].sum()\n",
    "# df_financial[df_financial['STATE'] == state][\n",
    "#     [\n",
    "#         'AUDITYEAR','STATE','AUDITEENAME', 'EIN','TYPEOFENTITY','TOTFEDEXPEND',\n",
    "#         'TYPEREPORT_SP_FRAMEWORK'\n",
    "# #         'TYPEREPORT_FS'\n",
    "#     ]\n",
    "# ]\n",
    "# df_financial[\n",
    "#     (df_financial['STATE'] == state) & \\\n",
    "#     (df_financial['MATERIALWEAKNESS'] == 'Y')\n",
    "# #     (df_financial['MATERIALNONCOMPLIANCE'] == 'Y')\n",
    "# #     (df_financial['REPORTABLECONDITION'] == 'Y')\n",
    "# #     (df_financial['TYPEREPORT_FS'].str.contains('A|D', regex=True))\n",
    "# ]['TYPEOFENTITY'].value_counts()"
   ]
  },
  {
   "cell_type": "code",
   "execution_count": null,
   "metadata": {
    "collapsed": true
   },
   "outputs": [],
   "source": []
  }
 ],
 "metadata": {
  "kernelspec": {
   "display_name": "Python 3",
   "language": "python",
   "name": "python3"
  },
  "language_info": {
   "codemirror_mode": {
    "name": "ipython",
    "version": 3
   },
   "file_extension": ".py",
   "mimetype": "text/x-python",
   "name": "python",
   "nbconvert_exporter": "python",
   "pygments_lexer": "ipython3",
   "version": "3.6.8"
  }
 },
 "nbformat": 4,
 "nbformat_minor": 2
}
