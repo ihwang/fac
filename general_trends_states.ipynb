{
 "cells": [
  {
   "cell_type": "markdown",
   "metadata": {},
   "source": [
    "# This notebook examines state-specific trends in the processed general.txt file (general.pkl)"
   ]
  },
  {
   "cell_type": "code",
   "execution_count": 1,
   "metadata": {
    "collapsed": false
   },
   "outputs": [],
   "source": [
    "import numpy as np\n",
    "import pandas as pd\n",
    "%matplotlib inline\n",
    "import matplotlib.pyplot as plt\n",
    "import pickle\n",
    "import os\n",
    "import re\n",
    "import cpi\n",
    "\n",
    "processed_path = '/data/ihwang/data_journalism/allfac/processed/'\n",
    "df_general = pd.read_pickle(processed_path + 'general.pkl')\n",
    "\n",
    "# Agency prefix dictionary:\n",
    "with open(processed_path + 'agency_dict.pkl', 'rb') as f_r:\n",
    "    agency_dict = pickle.load(f_r)\n",
    "# Entity code dictionary:\n",
    "with open(processed_path + 'entity_dict.pkl', 'rb') as f_r:\n",
    "    entity_dict = pickle.load(f_r)"
   ]
  },
  {
   "cell_type": "markdown",
   "metadata": {},
   "source": [
    "Fields carried over from processing general.txt"
   ]
  },
  {
   "cell_type": "code",
   "execution_count": 2,
   "metadata": {
    "collapsed": false,
    "scrolled": true
   },
   "outputs": [],
   "source": [
    "# for i in df_general.columns:\n",
    "#     print(i)"
   ]
  },
  {
   "cell_type": "markdown",
   "metadata": {},
   "source": [
    "Adjust `DOLLARTHRESHOLD` and `TOTFEDEXPEND_ADJUSTED` for inflation"
   ]
  },
  {
   "cell_type": "code",
   "execution_count": 3,
   "metadata": {
    "collapsed": false
   },
   "outputs": [],
   "source": [
    "df_general['DOLLARTHRESHOLD_ADJUSTED'] = df_general.apply(lambda x: cpi.inflate(x.DOLLARTHRESHOLD, x.AUDITYEAR), axis=1)\n",
    "df_general['TOTFEDEXPEND_ADJUSTED'] = df_general.apply(lambda x: cpi.inflate(x.TOTFEDEXPEND, x.AUDITYEAR), axis=1)"
   ]
  },
  {
   "cell_type": "code",
   "execution_count": 4,
   "metadata": {
    "collapsed": false
   },
   "outputs": [],
   "source": [
    "# Remove territories/islands\n",
    "df_analysis = df_general[~df_general['STATE'].isin(['AS','MP','FM','PR','GU','PW','MH','VI'])]"
   ]
  },
  {
   "cell_type": "markdown",
   "metadata": {},
   "source": [
    "## Calculate relative numbers of audits and total expenditure"
   ]
  },
  {
   "cell_type": "code",
   "execution_count": 28,
   "metadata": {
    "collapsed": false
   },
   "outputs": [],
   "source": [
    "series_state_pct_audits = 100 * df_analysis.groupby('STATE').size().sort_values(ascending=False) / len(df_general)\n",
    "series_dict = {'PCT_ALL_AUDITS': series_state_pct_audits}\n",
    "series_state_pct_expend = 100 * df_analysis.groupby('STATE')\\\n",
    "    ['TOTFEDEXPEND_ADJUSTED'].sum().sort_values(ascending=False) / \\\n",
    "    df_general['TOTFEDEXPEND_ADJUSTED'].sum() \n",
    "series_dict['PCT_FEDEXPEND'] = series_state_pct_expend"
   ]
  },
  {
   "cell_type": "markdown",
   "metadata": {},
   "source": [
    "## Risk"
   ]
  },
  {
   "cell_type": "code",
   "execution_count": 30,
   "metadata": {
    "collapsed": false
   },
   "outputs": [],
   "source": [
    "df_risk_state = df_analysis.groupby('STATE')['LOWRISK'].value_counts().sort_index().unstack()\n",
    "series_risk_state_norm = 100 * df_risk_state['N'] / len(df_general[df_general['LOWRISK'] == 'N'])\n",
    "series_dict['PCT_HIGH_RISK'] = series_risk_state_norm"
   ]
  },
  {
   "cell_type": "code",
   "execution_count": 38,
   "metadata": {
    "collapsed": false,
    "scrolled": false
   },
   "outputs": [
    {
     "data": {
      "image/png": "[encoded data removed]",
      "text/plain": [
       "<Figure size 360x360 with 1 Axes>"
      ]
     },
     "metadata": {},
     "output_type": "display_data"
    }
   ],
   "source": [
    "series1 = 'PCT_FEDEXPEND'\n",
    "series2 = 'PCT_HIGH_RISK'\n",
    "\n",
    "fig, axes = plt.subplots(figsize=(5, 5))\n",
    "df_plot = pd.concat(\n",
    "    [series_dict[series1].rename(series1), series_dict[series2].rename(series2)], \n",
    "    axis=1, sort=True\n",
    ")\n",
    "axes_max = max(max(series_dict[series1]), max(series_dict[series2]))\n",
    "df_plot.dropna(inplace=True)\n",
    "plot = df_plot.plot(\n",
    "    x=series1, y=series2, kind='scatter', fontsize=16, ax=axes\n",
    ")\n",
    "for i, point in df_plot.iterrows():\n",
    "    axes.text(point[series1], point[series2], str(i))\n",
    "plot.set_xlabel(series1, fontsize=16, fontname='Arial')\n",
    "plot.set_ylabel(series2, fontsize=16, fontname='Arial')\n",
    "plot.set_ylim(bottom=0, top=1.1*axes_max)\n",
    "plot.set_xlim(left=0, right=1.1*axes_max)\n",
    "axes.plot(axes.get_xlim(), axes.get_ylim(), ls=\"--\", c=\".3\")\n",
    "\n",
    "plt.tight_layout()\n",
    "plt.show()"
   ]
  },
  {
   "cell_type": "markdown",
   "metadata": {},
   "source": [
    "## Financial statements"
   ]
  },
  {
   "cell_type": "markdown",
   "metadata": {},
   "source": [
    "What are the possible bases of accounting that can be used?"
   ]
  },
  {
   "cell_type": "code",
   "execution_count": 10,
   "metadata": {
    "collapsed": false
   },
   "outputs": [
    {
     "data": {
      "text/plain": [
       "{'', 'CASH', 'CONTRACTUAL', 'OTHER', 'REGULATORY', 'TAX'}"
      ]
     },
     "execution_count": 10,
     "metadata": {},
     "output_type": "execute_result"
    }
   ],
   "source": [
    "set(df_analysis['SP_FRAMEWORK'])"
   ]
  },
  {
   "cell_type": "markdown",
   "metadata": {},
   "source": [
    "Filter data based on a particular basis of accounting framework"
   ]
  },
  {
   "cell_type": "code",
   "execution_count": 91,
   "metadata": {
    "collapsed": false
   },
   "outputs": [],
   "source": [
    "framework = 'CASH'\n",
    "df_financial = df_analysis[df_analysis['SP_FRAMEWORK'] == framework]\n",
    "if framework != '':\n",
    "    print('Number of audits prepared according to a %s special framework: %s' %(framework, len(df_financial)))"
   ]
  },
  {
   "cell_type": "markdown",
   "metadata": {},
   "source": [
    "Filter by whether special framework was required by state law (only for special purpose frameworks)"
   ]
  },
  {
   "cell_type": "code",
   "execution_count": 92,
   "metadata": {
    "collapsed": false
   },
   "outputs": [],
   "source": [
    "# if framework != '':\n",
    "#     df_financial = df_financial[df_financial['SP_FRAMEWORK_REQUIRED'] == 'Y']"
   ]
  },
  {
   "cell_type": "code",
   "execution_count": 93,
   "metadata": {
    "collapsed": false
   },
   "outputs": [
    {
     "name": "stdout",
     "output_type": "stream",
     "text": [
      "dict_keys(['% all audits', '% total expenditure', '% of audits with >=1\\nA or D opinion on\\nTYPEREPORT_FS', '% of audits with >= 1\\nGOINGCONCERN', '% of audits with >= 1\\nREPORTABLECONDITION', '% of audits with >= 1\\nMATERIALWEAKNESS', '% of audits with >= 1\\nMATERIALNONCOMPLIANCE'])\n"
     ]
    }
   ],
   "source": [
    "fs_series_dict = {}\n",
    "\n",
    "###############################################################################\n",
    "# Calculate general numbers: percent of all audits and total expenditure\n",
    "###############################################################################\n",
    "series_state_size = df_financial.groupby('STATE').\\\n",
    "    size().sort_values(ascending=False) / len(df_general) * 100\n",
    "fs_series_dict['% all audits'] = series_state_size\n",
    "series_state_expenditures = df_financial.groupby('STATE')\\\n",
    "    ['TOTFEDEXPEND_ADJUSTED'].sum().sort_values(ascending=False) / \\\n",
    "    df_general['TOTFEDEXPEND_ADJUSTED'].sum() * 100\n",
    "fs_series_dict['% total expenditure'] = series_state_expenditures\n",
    "###############################################################################\n",
    "\n",
    "###############################################################################\n",
    "# Get percent of A/D audit opinions on financial statement preparation and \n",
    "# financial issues\n",
    "###############################################################################\n",
    "if framework == '':\n",
    "    sortby_fs = 'TYPEREPORT_FS'\n",
    "else:\n",
    "    sortby_fs = 'TYPEREPORT_SP_FRAMEWORK'\n",
    "ad_op_list = [\n",
    "    i for i in set(df_financial[sortby_fs]) \n",
    "    if ('A' in i) or ('D' in i)\n",
    "]\n",
    "df_state_fs = df_financial.groupby('STATE')\\\n",
    "    [sortby_fs].value_counts().unstack()\n",
    "series_state_ad_fs = df_state_fs[ad_op_list]\\\n",
    "    .sum(axis=1).div(df_state_fs.sum(axis=1)).sort_values(ascending=False)\n",
    "series_state_ad_fs_norm = series_state_ad_fs * 100\n",
    "fs_series_dict[\n",
    "    '%% of audits with >=1\\nA or D opinion on\\n%s' %sortby_fs\n",
    "] = series_state_ad_fs_norm\n",
    "\n",
    "# Get percent of financial issues\n",
    "for op_state in [\n",
    "    'GOINGCONCERN','REPORTABLECONDITION', 'MATERIALWEAKNESS',\n",
    "    'MATERIALNONCOMPLIANCE'\n",
    "]:\n",
    "    df_op_state = df_financial.groupby('STATE')[op_state].value_counts().sort_index().unstack()\n",
    "    df_op_state_norm = df_op_state.div(df_op_state.sum(axis=1), axis=0) * 100\n",
    "    if op_state == 'MATERIALWEAKNESS':\n",
    "        series_op_state = df_op_state_norm[\n",
    "            [i for i in df_op_state_norm.columns if i in ['2', '3', 'X', 'Y']]\n",
    "        ].sum(axis=1)\n",
    "    else:\n",
    "        series_op_state = df_op_state_norm['Y']\n",
    "    if op_state == 'LOWRISK':\n",
    "        fs_series_dict_key = '% LOWRISK audits'\n",
    "    else:\n",
    "        fs_series_dict_key = '% of audits with >= 1\\n' + op_state\n",
    "    fs_series_dict[fs_series_dict_key] = series_op_state\n",
    "###############################################################################\n",
    "\n",
    "print(fs_series_dict.keys())"
   ]
  },
  {
   "cell_type": "code",
   "execution_count": 169,
   "metadata": {
    "collapsed": true
   },
   "outputs": [],
   "source": [
    "series_1 = '% all audits'\n",
    "series_2 = '% of audits with >= 1\\nMATERIALWEAKNESS'"
   ]
  },
  {
   "cell_type": "code",
   "execution_count": 170,
   "metadata": {
    "collapsed": false,
    "scrolled": false
   },
   "outputs": [
    {
     "data": {
      "image/png": "[encoded data removed]",
      "text/plain": [
       "<Figure size 360x360 with 1 Axes>"
      ]
     },
     "metadata": {},
     "output_type": "display_data"
    }
   ],
   "source": [
    "fig, axes = plt.subplots(figsize=(5, 5))\n",
    "df_plot = pd.concat(\n",
    "    [fs_series_dict[series_1].rename('series1'), fs_series_dict[series_2].rename('series2')], \n",
    "    axis=1, sort=True\n",
    ")\n",
    "df_plot.dropna(inplace=True)\n",
    "# df_plot.drop(index='000', inplace=True)  # Drop obvious outlier for entities\n",
    "plot = df_plot.plot(\n",
    "    x='series1', y='series2', kind='scatter', fontsize=16, ax=axes\n",
    ")\n",
    "for i, point in df_plot.iterrows():\n",
    "    axes.text(point['series1'], point['series2'], str(i))\n",
    "plot.set_xlabel(series_1, fontsize=16, fontname='Arial')\n",
    "plot.set_ylabel(series_2, fontsize=16, fontname='Arial')\n",
    "plot.set_xlim(left=0.)\n",
    "plt.tight_layout()\n",
    "plt.show()"
   ]
  },
  {
   "cell_type": "code",
   "execution_count": 171,
   "metadata": {
    "collapsed": false,
    "scrolled": true
   },
   "outputs": [
    {
     "data": {
      "text/html": [
       "<div>\n",
       "<style scoped>\n",
       "    .dataframe tbody tr th:only-of-type {\n",
       "        vertical-align: middle;\n",
       "    }\n",
       "\n",
       "    .dataframe tbody tr th {\n",
       "        vertical-align: top;\n",
       "    }\n",
       "\n",
       "    .dataframe thead th {\n",
       "        text-align: right;\n",
       "    }\n",
       "</style>\n",
       "<table border=\"1\" class=\"dataframe\">\n",
       "  <thead>\n",
       "    <tr style=\"text-align: right;\">\n",
       "      <th></th>\n",
       "      <th>series1</th>\n",
       "      <th>series2</th>\n",
       "    </tr>\n",
       "  </thead>\n",
       "  <tbody>\n",
       "    <tr>\n",
       "      <th>SD</th>\n",
       "      <td>0.662239</td>\n",
       "      <td>43.145379</td>\n",
       "    </tr>\n",
       "    <tr>\n",
       "      <th>IA</th>\n",
       "      <td>1.414192</td>\n",
       "      <td>36.089084</td>\n",
       "    </tr>\n",
       "    <tr>\n",
       "      <th>ND</th>\n",
       "      <td>0.511323</td>\n",
       "      <td>28.184788</td>\n",
       "    </tr>\n",
       "    <tr>\n",
       "      <th>AR</th>\n",
       "      <td>1.460839</td>\n",
       "      <td>28.068599</td>\n",
       "    </tr>\n",
       "    <tr>\n",
       "      <th>MT</th>\n",
       "      <td>0.768059</td>\n",
       "      <td>22.848711</td>\n",
       "    </tr>\n",
       "    <tr>\n",
       "      <th>MN</th>\n",
       "      <td>2.469050</td>\n",
       "      <td>21.695014</td>\n",
       "    </tr>\n",
       "    <tr>\n",
       "      <th>NM</th>\n",
       "      <td>0.872924</td>\n",
       "      <td>21.005877</td>\n",
       "    </tr>\n",
       "    <tr>\n",
       "      <th>WV</th>\n",
       "      <td>0.861114</td>\n",
       "      <td>19.797728</td>\n",
       "    </tr>\n",
       "    <tr>\n",
       "      <th>MS</th>\n",
       "      <td>1.345475</td>\n",
       "      <td>19.613407</td>\n",
       "    </tr>\n",
       "    <tr>\n",
       "      <th>WY</th>\n",
       "      <td>0.389279</td>\n",
       "      <td>18.633160</td>\n",
       "    </tr>\n",
       "    <tr>\n",
       "      <th>WI</th>\n",
       "      <td>2.342114</td>\n",
       "      <td>18.627751</td>\n",
       "    </tr>\n",
       "    <tr>\n",
       "      <th>TN</th>\n",
       "      <td>1.547332</td>\n",
       "      <td>18.203547</td>\n",
       "    </tr>\n",
       "    <tr>\n",
       "      <th>NV</th>\n",
       "      <td>0.411588</td>\n",
       "      <td>18.144928</td>\n",
       "    </tr>\n",
       "    <tr>\n",
       "      <th>AZ</th>\n",
       "      <td>1.498896</td>\n",
       "      <td>17.812798</td>\n",
       "    </tr>\n",
       "    <tr>\n",
       "      <th>GA</th>\n",
       "      <td>2.157198</td>\n",
       "      <td>17.210486</td>\n",
       "    </tr>\n",
       "    <tr>\n",
       "      <th>NE</th>\n",
       "      <td>0.834987</td>\n",
       "      <td>17.002429</td>\n",
       "    </tr>\n",
       "    <tr>\n",
       "      <th>LA</th>\n",
       "      <td>1.630246</td>\n",
       "      <td>15.850714</td>\n",
       "    </tr>\n",
       "    <tr>\n",
       "      <th>MO</th>\n",
       "      <td>2.239754</td>\n",
       "      <td>15.622670</td>\n",
       "    </tr>\n",
       "    <tr>\n",
       "      <th>IN</th>\n",
       "      <td>1.933986</td>\n",
       "      <td>15.310592</td>\n",
       "    </tr>\n",
       "    <tr>\n",
       "      <th>AK</th>\n",
       "      <td>0.773547</td>\n",
       "      <td>14.774830</td>\n",
       "    </tr>\n",
       "    <tr>\n",
       "      <th>IL</th>\n",
       "      <td>4.195811</td>\n",
       "      <td>13.915269</td>\n",
       "    </tr>\n",
       "    <tr>\n",
       "      <th>SC</th>\n",
       "      <td>1.270077</td>\n",
       "      <td>12.182980</td>\n",
       "    </tr>\n",
       "    <tr>\n",
       "      <th>NC</th>\n",
       "      <td>2.261825</td>\n",
       "      <td>11.931009</td>\n",
       "    </tr>\n",
       "    <tr>\n",
       "      <th>OK</th>\n",
       "      <td>1.603881</td>\n",
       "      <td>11.038381</td>\n",
       "    </tr>\n",
       "    <tr>\n",
       "      <th>VT</th>\n",
       "      <td>0.583262</td>\n",
       "      <td>11.024749</td>\n",
       "    </tr>\n",
       "    <tr>\n",
       "      <th>AL</th>\n",
       "      <td>1.657685</td>\n",
       "      <td>10.867218</td>\n",
       "    </tr>\n",
       "    <tr>\n",
       "      <th>MI</th>\n",
       "      <td>3.797585</td>\n",
       "      <td>10.856999</td>\n",
       "    </tr>\n",
       "    <tr>\n",
       "      <th>KY</th>\n",
       "      <td>1.758017</td>\n",
       "      <td>10.498100</td>\n",
       "    </tr>\n",
       "    <tr>\n",
       "      <th>ID</th>\n",
       "      <td>0.568230</td>\n",
       "      <td>10.413605</td>\n",
       "    </tr>\n",
       "    <tr>\n",
       "      <th>PA</th>\n",
       "      <td>5.531622</td>\n",
       "      <td>9.455000</td>\n",
       "    </tr>\n",
       "    <tr>\n",
       "      <th>KS</th>\n",
       "      <td>1.096256</td>\n",
       "      <td>9.304603</td>\n",
       "    </tr>\n",
       "    <tr>\n",
       "      <th>DC</th>\n",
       "      <td>1.088978</td>\n",
       "      <td>8.512270</td>\n",
       "    </tr>\n",
       "    <tr>\n",
       "      <th>RI</th>\n",
       "      <td>0.518243</td>\n",
       "      <td>8.356354</td>\n",
       "    </tr>\n",
       "    <tr>\n",
       "      <th>HI</th>\n",
       "      <td>0.424830</td>\n",
       "      <td>8.312272</td>\n",
       "    </tr>\n",
       "    <tr>\n",
       "      <th>CO</th>\n",
       "      <td>1.329369</td>\n",
       "      <td>8.014000</td>\n",
       "    </tr>\n",
       "    <tr>\n",
       "      <th>FL</th>\n",
       "      <td>3.275166</td>\n",
       "      <td>7.897133</td>\n",
       "    </tr>\n",
       "    <tr>\n",
       "      <th>VA</th>\n",
       "      <td>1.898196</td>\n",
       "      <td>7.868770</td>\n",
       "    </tr>\n",
       "    <tr>\n",
       "      <th>ME</th>\n",
       "      <td>0.915634</td>\n",
       "      <td>7.609121</td>\n",
       "    </tr>\n",
       "    <tr>\n",
       "      <th>UT</th>\n",
       "      <td>0.595311</td>\n",
       "      <td>7.535070</td>\n",
       "    </tr>\n",
       "    <tr>\n",
       "      <th>NH</th>\n",
       "      <td>0.619649</td>\n",
       "      <td>7.431652</td>\n",
       "    </tr>\n",
       "    <tr>\n",
       "      <th>MD</th>\n",
       "      <td>1.341657</td>\n",
       "      <td>7.371510</td>\n",
       "    </tr>\n",
       "    <tr>\n",
       "      <th>DE</th>\n",
       "      <td>0.220945</td>\n",
       "      <td>7.289417</td>\n",
       "    </tr>\n",
       "    <tr>\n",
       "      <th>OH</th>\n",
       "      <td>5.118722</td>\n",
       "      <td>6.912786</td>\n",
       "    </tr>\n",
       "    <tr>\n",
       "      <th>CT</th>\n",
       "      <td>1.227964</td>\n",
       "      <td>6.732731</td>\n",
       "    </tr>\n",
       "    <tr>\n",
       "      <th>NJ</th>\n",
       "      <td>2.463324</td>\n",
       "      <td>6.615653</td>\n",
       "    </tr>\n",
       "    <tr>\n",
       "      <th>MA</th>\n",
       "      <td>3.001729</td>\n",
       "      <td>6.553794</td>\n",
       "    </tr>\n",
       "    <tr>\n",
       "      <th>TX</th>\n",
       "      <td>5.169664</td>\n",
       "      <td>6.530819</td>\n",
       "    </tr>\n",
       "    <tr>\n",
       "      <th>OR</th>\n",
       "      <td>1.446523</td>\n",
       "      <td>6.292784</td>\n",
       "    </tr>\n",
       "    <tr>\n",
       "      <th>CA</th>\n",
       "      <td>8.861548</td>\n",
       "      <td>6.256142</td>\n",
       "    </tr>\n",
       "    <tr>\n",
       "      <th>WA</th>\n",
       "      <td>2.104944</td>\n",
       "      <td>5.729993</td>\n",
       "    </tr>\n",
       "    <tr>\n",
       "      <th>NY</th>\n",
       "      <td>6.527069</td>\n",
       "      <td>5.223812</td>\n",
       "    </tr>\n",
       "  </tbody>\n",
       "</table>\n",
       "</div>"
      ],
      "text/plain": [
       "     series1    series2\n",
       "SD  0.662239  43.145379\n",
       "IA  1.414192  36.089084\n",
       "ND  0.511323  28.184788\n",
       "AR  1.460839  28.068599\n",
       "MT  0.768059  22.848711\n",
       "MN  2.469050  21.695014\n",
       "NM  0.872924  21.005877\n",
       "WV  0.861114  19.797728\n",
       "MS  1.345475  19.613407\n",
       "WY  0.389279  18.633160\n",
       "WI  2.342114  18.627751\n",
       "TN  1.547332  18.203547\n",
       "NV  0.411588  18.144928\n",
       "AZ  1.498896  17.812798\n",
       "GA  2.157198  17.210486\n",
       "NE  0.834987  17.002429\n",
       "LA  1.630246  15.850714\n",
       "MO  2.239754  15.622670\n",
       "IN  1.933986  15.310592\n",
       "AK  0.773547  14.774830\n",
       "IL  4.195811  13.915269\n",
       "SC  1.270077  12.182980\n",
       "NC  2.261825  11.931009\n",
       "OK  1.603881  11.038381\n",
       "VT  0.583262  11.024749\n",
       "AL  1.657685  10.867218\n",
       "MI  3.797585  10.856999\n",
       "KY  1.758017  10.498100\n",
       "ID  0.568230  10.413605\n",
       "PA  5.531622   9.455000\n",
       "KS  1.096256   9.304603\n",
       "DC  1.088978   8.512270\n",
       "RI  0.518243   8.356354\n",
       "HI  0.424830   8.312272\n",
       "CO  1.329369   8.014000\n",
       "FL  3.275166   7.897133\n",
       "VA  1.898196   7.868770\n",
       "ME  0.915634   7.609121\n",
       "UT  0.595311   7.535070\n",
       "NH  0.619649   7.431652\n",
       "MD  1.341657   7.371510\n",
       "DE  0.220945   7.289417\n",
       "OH  5.118722   6.912786\n",
       "CT  1.227964   6.732731\n",
       "NJ  2.463324   6.615653\n",
       "MA  3.001729   6.553794\n",
       "TX  5.169664   6.530819\n",
       "OR  1.446523   6.292784\n",
       "CA  8.861548   6.256142\n",
       "WA  2.104944   5.729993\n",
       "NY  6.527069   5.223812"
      ]
     },
     "execution_count": 171,
     "metadata": {},
     "output_type": "execute_result"
    }
   ],
   "source": [
    "df_plot.sort_values('series2', ascending=False)\n",
    "# state = 'AR'\n",
    "# len(df_financial[df_financial['STATE'] == state]['TOTFEDEXPEND_ADJUSTED'])\n",
    "# df_financial[df_financial['STATE'] == state]['TOTFEDEXPEND_ADJUSTED'].sum()\n",
    "# df_financial[df_financial['STATE'] == state][\n",
    "#     [\n",
    "#         'AUDITYEAR','STATE','AUDITEENAME', 'EIN','TYPEOFENTITY','TOTFEDEXPEND',\n",
    "#         'TYPEREPORT_SP_FRAMEWORK'\n",
    "# #         'TYPEREPORT_FS'\n",
    "#     ]\n",
    "# ]\n",
    "# df_financial[\n",
    "#     (df_financial['STATE'] == state) & \\\n",
    "#     (df_financial['MATERIALWEAKNESS'] == 'Y')\n",
    "# #     (df_financial['MATERIALNONCOMPLIANCE'] == 'Y')\n",
    "# #     (df_financial['REPORTABLECONDITION'] == 'Y')\n",
    "# #     (df_financial['TYPEREPORT_FS'].str.contains('A|D', regex=True))\n",
    "# ]['TYPEOFENTITY'].value_counts()"
   ]
  },
  {
   "cell_type": "markdown",
   "metadata": {},
   "source": [
    "Calculate quantities that can be calculated for all audits"
   ]
  },
  {
   "cell_type": "code",
   "execution_count": 31,
   "metadata": {
    "collapsed": false,
    "scrolled": true
   },
   "outputs": [
    {
     "name": "stdout",
     "output_type": "stream",
     "text": [
      "dict_keys(['% all audits', '% total expenditure', '%% of audits with >=1\\nA or D opinion on TYPEREPORT_MP', '% LOWRISK audits', '% of audits with >= 1\\nMATERIALWEAKNESS_MP', '% of audits with >= 1\\nREPORTABLECONDITION_MP', '% of audits with >= 1\\nQCOSTS'])\n"
     ]
    }
   ],
   "source": [
    "series_dict = {}\n",
    "\n",
    "###############################################################################\n",
    "# Calculate general numbers: percent of all audits and total expenditure\n",
    "###############################################################################\n",
    "series_state_size = df_analysis.groupby('STATE').\\\n",
    "    size().sort_values(ascending=False) / len(df_general) * 100\n",
    "series_dict['% all audits'] = series_state_size\n",
    "series_state_expenditures = df_analysis.groupby('STATE')\\\n",
    "    ['TOTFEDEXPEND_ADJUSTED'].sum().sort_values(ascending=False) / \\\n",
    "    df_general['TOTFEDEXPEND_ADJUSTED'].sum() * 100\n",
    "series_dict['% total expenditure'] = series_state_expenditures\n",
    "###############################################################################\n",
    "\n",
    "###############################################################################\n",
    "# Get opinion on major program compliance\n",
    "###############################################################################\n",
    "ad_op_list = [\n",
    "    i for i in set(df_analysis['TYPEREPORT_MP']) if ('A' in i) or ('D' in i)\n",
    "]\n",
    "df_state_mp = df_analysis.groupby('STATE')\\\n",
    "    ['TYPEREPORT_MP'].value_counts().unstack()\n",
    "series_state_ad_mp = df_state_mp[ad_op_list]\\\n",
    "    .sum(axis=1).div(df_state_mp.sum(axis=1)).sort_values(ascending=False)\n",
    "series_state_ad_mp_norm = series_state_ad_mp * 100\n",
    "series_dict[\n",
    "    '%% of audits with >=1\\nA or D opinion on TYPEREPORT_MP'\n",
    "] = series_state_ad_mp_norm\n",
    "\n",
    "###############################################################################\n",
    "# Get percent of risk for low-risk designation and major program compliance \n",
    "# issues\n",
    "###############################################################################\n",
    "for op_state in [\n",
    "    'LOWRISK', 'MATERIALWEAKNESS_MP', 'REPORTABLECONDITION_MP', 'QCOSTS'\n",
    "]:\n",
    "    df_op_state = df_analysis.groupby('STATE')\\\n",
    "        [op_state].value_counts().sort_index().unstack()\n",
    "    df_op_state_norm = 100 * \\\n",
    "        df_op_state.div(df_op_state.sum(axis=1), axis=0) * 100\n",
    "    if op_state == 'MATERIALWEAKNESS':\n",
    "        series_op_state = df_op_state_norm[\n",
    "            [i for i in df_op_state_norm.columns if i in ['2', '3', 'X', 'Y']]\n",
    "        ].sum(axis=1)\n",
    "    else:\n",
    "        series_op_state = df_op_state_norm['Y']\n",
    "    if op_state == 'LOWRISK':\n",
    "        series_dict_key = '% LOWRISK audits'\n",
    "    else:\n",
    "        series_dict_key = '% of audits with >= 1\\n' + op_state\n",
    "    series_dict[series_dict_key] = series_op_state\n",
    "###############################################################################\n",
    "print(series_dict.keys())"
   ]
  },
  {
   "cell_type": "code",
   "execution_count": 22,
   "metadata": {
    "collapsed": true
   },
   "outputs": [],
   "source": [
    "series_1 = '% all audits'\n",
    "series_2 = '% of audits with >=1\\nA or D opinion on TYPEREPORT_MP'"
   ]
  },
  {
   "cell_type": "code",
   "execution_count": 23,
   "metadata": {
    "collapsed": false
   },
   "outputs": [
    {
     "data": {
      "image/png": "[encoded data removed]",
      "text/plain": [
       "<Figure size 360x360 with 1 Axes>"
      ]
     },
     "metadata": {},
     "output_type": "display_data"
    }
   ],
   "source": [
    "fig, axes = plt.subplots(figsize=(5, 5))\n",
    "df_plot = pd.concat(\n",
    "    [series_dict[series_1].rename('series1'), series_dict[series_2].rename('series2')], \n",
    "    axis=1, sort=True\n",
    ")\n",
    "df_plot.dropna(inplace=True)\n",
    "# df_plot.drop(index='000', inplace=True)  # Drop obvious outlier for entities\n",
    "plot = df_plot.plot(\n",
    "    x='series1', y='series2', kind='scatter', fontsize=16, ax=axes\n",
    ")\n",
    "for i, point in df_plot.iterrows():\n",
    "    axes.text(point['series1'], point['series2'], str(i))\n",
    "plot.set_xlabel(series_1, fontsize=16, fontname='Arial')\n",
    "plot.set_ylabel(series_2, fontsize=16, fontname='Arial')\n",
    "plt.tight_layout()\n",
    "plt.show()"
   ]
  }
 ],
 "metadata": {
  "kernelspec": {
   "display_name": "Python 3",
   "language": "python",
   "name": "python3"
  },
  "language_info": {
   "codemirror_mode": {
    "name": "ipython",
    "version": 3
   },
   "file_extension": ".py",
   "mimetype": "text/x-python",
   "name": "python",
   "nbconvert_exporter": "python",
   "pygments_lexer": "ipython3",
   "version": "3.6.8"
  }
 },
 "nbformat": 4,
 "nbformat_minor": 2
}
